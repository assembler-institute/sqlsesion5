{
 "cells": [
  {
   "cell_type": "markdown",
   "id": "c810f5f3-5f45-41c8-853a-82b71e96a6b1",
   "metadata": {},
   "source": [
    "# SQL V: Excersises \n",
    "\n",
    "To solve this exercise you'll use the database `classicmodels`"
   ]
  },
  {
   "cell_type": "code",
   "execution_count": 1,
   "id": "9f92802e-203c-4583-abc4-5eef1741537a",
   "metadata": {},
   "outputs": [],
   "source": [
    "#Imports\n",
    "import pandas as pd\n",
    "import mysql.connector\n",
    "\n",
    "#SQL Function\n",
    "def sql(_query, _con):\n",
    "    \n",
    "    cursor = _con.cursor()\n",
    "    cursor.execute(_query)\n",
    "    \n",
    "    cols = cursor.column_names\n",
    "    data = cursor.fetchall()\n",
    "    \n",
    "    _con.commit()\n",
    "    \n",
    "    df = pd.DataFrame(data, columns=cols)\n",
    "    \n",
    "    return df\n",
    "\n",
    "#Connections\n",
    "dw = mysql.connector.connect(\n",
    "  host=\"iosqlde.onairnet.xyz\",\n",
    "  user=\"assemblerReader\",\n",
    "  password=\"!Reader2022\",\n",
    "  database=\"classicmodels\"\n",
    ")"
   ]
  },
  {
   "cell_type": "markdown",
   "id": "3899ce2a-0919-4c75-9473-1aaf0e9ad49e",
   "metadata": {},
   "source": [
    "## 1.- Create the model of this database\n",
    "\n",
    "Explore this database with mysql workbench, and using the model editor in this tool create the physical model of this database"
   ]
  },
  {
   "cell_type": "markdown",
   "id": "9338a6a0-32c4-42b5-a64d-7aaea78d58a0",
   "metadata": {},
   "source": [
    "## 2.- Perform the following queries\n",
    "\n",
    "1. Get a list of customers that ordered the prodcut \"1938 Cadillac V-16 Presidential Limousine\"\n",
    "2. Get the most sold proctuct name for each employee. Shown the employee name and surname only in a single field + the proct name in another field + the amount sold\n",
    "3. Get for each customer, the amount spend, the amount paid and the amount pending to be paid"
   ]
  }
 ],
 "metadata": {
  "kernelspec": {
   "display_name": "Python 3 (ipykernel)",
   "language": "python",
   "name": "python3"
  },
  "language_info": {
   "codemirror_mode": {
    "name": "ipython",
    "version": 3
   },
   "file_extension": ".py",
   "mimetype": "text/x-python",
   "name": "python",
   "nbconvert_exporter": "python",
   "pygments_lexer": "ipython3",
   "version": "3.9.7"
  }
 },
 "nbformat": 4,
 "nbformat_minor": 5
}
